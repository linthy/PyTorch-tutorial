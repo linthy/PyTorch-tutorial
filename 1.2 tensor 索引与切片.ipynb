{
 "cells": [
  {
   "cell_type": "markdown",
   "metadata": {},
   "source": [
    "### 索引与切片\n",
    "1. 两个符号 ... 与 :\n",
    "2. 几个索引函数\n",
    "3. 条件索引"
   ]
  },
  {
   "cell_type": "code",
   "execution_count": 1,
   "metadata": {},
   "outputs": [],
   "source": [
    "import torch"
   ]
  },
  {
   "cell_type": "code",
   "execution_count": 3,
   "metadata": {},
   "outputs": [],
   "source": [
    "a = torch.rand(4,3,10,10)"
   ]
  },
  {
   "cell_type": "markdown",
   "metadata": {},
   "source": [
    "#### 符号使用\n",
    ": --一个维度索引，有3种情况  \n",
    "__ __[:] --全部索引  \n",
    "__ __[a:], [:b], [c:d] --等值索引  \n",
    "__ __[a:b:2],[::2] --跨步索引  \n",
    "... --多个维度全选  \n",
    "__ __[...,1:4] --前全部维度操作\n",
    " "
   ]
  },
  {
   "cell_type": "code",
   "execution_count": 5,
   "metadata": {},
   "outputs": [
    {
     "data": {
      "text/plain": [
       "torch.Size([4, 3, 10, 10])"
      ]
     },
     "execution_count": 5,
     "metadata": {},
     "output_type": "execute_result"
    }
   ],
   "source": [
    "a.shape"
   ]
  },
  {
   "cell_type": "code",
   "execution_count": 7,
   "metadata": {},
   "outputs": [
    {
     "data": {
      "text/plain": [
       "torch.Size([4, 10, 10])"
      ]
     },
     "execution_count": 7,
     "metadata": {},
     "output_type": "execute_result"
    }
   ],
   "source": [
    "a[:,2].shape"
   ]
  },
  {
   "cell_type": "code",
   "execution_count": 8,
   "metadata": {},
   "outputs": [
    {
     "data": {
      "text/plain": [
       "torch.Size([4, 3, 10, 3])"
      ]
     },
     "execution_count": 8,
     "metadata": {},
     "output_type": "execute_result"
    }
   ],
   "source": [
    "a[...,1:4].shape"
   ]
  },
  {
   "cell_type": "markdown",
   "metadata": {},
   "source": [
    "#### 掩码矩阵索引\n",
    "mask * a\n",
    "\n",
    "#### 补充几个逻辑操作\n",
    "#a是输入矩阵，b可以是数值也可以是矩阵  \n",
    "#返回值是{0，1}，类型是torch.byte，如果要运算需要转换类型 tensor.to()\n",
    "torch.eq(a,b) --equal  \n",
    "torch.ge(a,b) --great or equal  \n",
    "torch.gt(a,b) --great than   \n",
    "torch.le(a,b) --little or equal  \n",
    "torch.lt(a,b) --little than  "
   ]
  },
  {
   "cell_type": "code",
   "execution_count": 33,
   "metadata": {},
   "outputs": [],
   "source": [
    "mask = torch.gt(a,0.5).to(torch.float)"
   ]
  },
  {
   "cell_type": "code",
   "execution_count": 34,
   "metadata": {},
   "outputs": [],
   "source": [
    "b = mask*a"
   ]
  },
  {
   "cell_type": "code",
   "execution_count": 35,
   "metadata": {},
   "outputs": [
    {
     "data": {
      "text/plain": [
       "torch.Size([4, 3, 10, 10])"
      ]
     },
     "execution_count": 35,
     "metadata": {},
     "output_type": "execute_result"
    }
   ],
   "source": [
    "b.shape"
   ]
  },
  {
   "cell_type": "code",
   "execution_count": 38,
   "metadata": {
    "scrolled": true
   },
   "outputs": [
    {
     "data": {
      "text/plain": [
       "tensor([[0.9716, 0.7338, 0.0000, 0.0000, 0.0000, 0.5485, 0.0000, 0.0000, 0.0000,\n",
       "         0.0000],\n",
       "        [0.0000, 0.0000, 0.0000, 0.0000, 0.0000, 0.6722, 0.5131, 0.5744, 0.0000,\n",
       "         0.0000],\n",
       "        [0.9826, 0.8712, 0.0000, 0.7652, 0.0000, 0.9929, 0.9359, 0.5037, 0.0000,\n",
       "         0.5951],\n",
       "        [0.6162, 0.5442, 0.5320, 0.6576, 0.6155, 0.0000, 0.0000, 0.0000, 0.5026,\n",
       "         0.7747],\n",
       "        [0.0000, 0.5992, 0.0000, 0.7123, 0.0000, 0.0000, 0.0000, 0.8724, 0.0000,\n",
       "         0.5920],\n",
       "        [0.6625, 0.5744, 0.5935, 0.9419, 0.8801, 0.6988, 0.9758, 0.0000, 0.5126,\n",
       "         0.0000],\n",
       "        [0.0000, 0.6461, 0.8557, 0.0000, 0.5231, 0.0000, 0.0000, 0.0000, 0.5369,\n",
       "         0.6074],\n",
       "        [0.9070, 0.6479, 0.7867, 0.0000, 0.0000, 0.5178, 0.8939, 0.8769, 0.0000,\n",
       "         0.8086],\n",
       "        [0.7964, 0.5915, 0.7268, 0.9707, 0.9202, 0.8453, 0.9848, 0.0000, 0.8562,\n",
       "         0.0000],\n",
       "        [0.0000, 0.0000, 0.0000, 0.7661, 0.8928, 0.0000, 0.5137, 0.5973, 0.0000,\n",
       "         0.0000]])"
      ]
     },
     "execution_count": 38,
     "metadata": {},
     "output_type": "execute_result"
    }
   ],
   "source": [
    "b[0,0]"
   ]
  },
  {
   "cell_type": "markdown",
   "metadata": {},
   "source": [
    "#### 条件索引\n",
    "1. tensor.nonzero()  \n",
    "返回非零的值的索引  \n",
    "2. 通过np.where()  "
   ]
  },
  {
   "cell_type": "code",
   "execution_count": 40,
   "metadata": {},
   "outputs": [],
   "source": [
    "c = torch.arange(6).reshape(2,3)"
   ]
  },
  {
   "cell_type": "code",
   "execution_count": 47,
   "metadata": {},
   "outputs": [
    {
     "name": "stdout",
     "output_type": "stream",
     "text": [
      "tensor([[1, 0],\n",
      "        [1, 1],\n",
      "        [1, 2]])\n"
     ]
    },
    {
     "data": {
      "text/plain": [
       "tensor([[0, 1, 2],\n",
       "        [3, 4, 5]])"
      ]
     },
     "execution_count": 47,
     "metadata": {},
     "output_type": "execute_result"
    }
   ],
   "source": [
    "# 返回符合条件的索引值，维度位置[1,2]-- 表示第0维的第1个，第1维的第二个\n",
    "print((c > 2).nonzero())\n",
    "c"
   ]
  },
  {
   "cell_type": "code",
   "execution_count": 49,
   "metadata": {},
   "outputs": [],
   "source": [
    "import numpy as np"
   ]
  },
  {
   "cell_type": "code",
   "execution_count": 54,
   "metadata": {},
   "outputs": [
    {
     "data": {
      "text/plain": [
       "(array([1, 1, 1], dtype=int64), array([0, 1, 2], dtype=int64))"
      ]
     },
     "execution_count": 54,
     "metadata": {},
     "output_type": "execute_result"
    }
   ],
   "source": [
    "# 返回 两个向量来表示维度位置\n",
    "d = c.numpy()\n",
    "np.where(d>2)"
   ]
  },
  {
   "cell_type": "code",
   "execution_count": null,
   "metadata": {},
   "outputs": [],
   "source": []
  }
 ],
 "metadata": {
  "kernelspec": {
   "display_name": "Python 3",
   "language": "python",
   "name": "python3"
  },
  "language_info": {
   "codemirror_mode": {
    "name": "ipython",
    "version": 3
   },
   "file_extension": ".py",
   "mimetype": "text/x-python",
   "name": "python",
   "nbconvert_exporter": "python",
   "pygments_lexer": "ipython3",
   "version": "3.7.3"
  }
 },
 "nbformat": 4,
 "nbformat_minor": 2
}
