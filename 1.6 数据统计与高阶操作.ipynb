{
 "cells": [
  {
   "cell_type": "markdown",
   "metadata": {},
   "source": [
    "### tensor的数据统计\n",
    "1. 均值、总和、累乘\n",
    "2. 最大最小，最大最小的对应参数\n",
    "3. topk\n",
    "\n",
    "__\n",
    "\n",
    "torch.where 与 torch.gather 的使用"
   ]
  },
  {
   "cell_type": "code",
   "execution_count": 2,
   "metadata": {},
   "outputs": [],
   "source": [
    "import torch"
   ]
  },
  {
   "cell_type": "markdown",
   "metadata": {},
   "source": [
    "**基础统计**"
   ]
  },
  {
   "cell_type": "code",
   "execution_count": 14,
   "metadata": {},
   "outputs": [
    {
     "data": {
      "text/plain": [
       "tensor([[8.7408, 6.6462],\n",
       "        [8.8348, 2.1271],\n",
       "        [3.9513, 8.0481],\n",
       "        [7.9011, 5.3785],\n",
       "        [1.5957, 1.4193],\n",
       "        [0.1257, 8.9475],\n",
       "        [3.3138, 1.5454],\n",
       "        [1.5400, 7.7148],\n",
       "        [1.9368, 8.7266],\n",
       "        [9.4407, 7.2448]])"
      ]
     },
     "execution_count": 14,
     "metadata": {},
     "output_type": "execute_result"
    }
   ],
   "source": [
    "A = torch.rand((10,2)) * 10\n",
    "A"
   ]
  },
  {
   "cell_type": "code",
   "execution_count": 18,
   "metadata": {},
   "outputs": [
    {
     "data": {
      "text/plain": [
       "(tensor(105.1790), tensor(5.2589), tensor(2.6425e+11))"
      ]
     },
     "execution_count": 18,
     "metadata": {},
     "output_type": "execute_result"
    }
   ],
   "source": [
    "# 注意，tensor的类型要是 float\n",
    "# ！这里遇到个问题，A是二维的，调用这些函数时，已经把A给拉成1维的再进行--需要注意\n",
    "A.sum(), A.mean(), A.prod()"
   ]
  },
  {
   "cell_type": "code",
   "execution_count": 16,
   "metadata": {},
   "outputs": [
    {
     "data": {
      "text/plain": [
       "(tensor(9.4407), tensor(18), tensor(0.1257), tensor(10))"
      ]
     },
     "execution_count": 16,
     "metadata": {},
     "output_type": "execute_result"
    }
   ],
   "source": [
    "# 这个需要注意，与numpy的区别，numpy.max()返回的是 [max,argmax]\n",
    "# 注意这个 18 ，是拉直后的坐标\n",
    "A.max(), A.argmax(), A.min(), A.argmin()"
   ]
  },
  {
   "cell_type": "code",
   "execution_count": 24,
   "metadata": {},
   "outputs": [
    {
     "data": {
      "text/plain": [
       "tensor([6.6462, 2.1271, 8.0481, 5.3785, 1.4193, 8.9475, 1.5454, 7.7148, 8.7266,\n",
       "        7.2448])"
      ]
     },
     "execution_count": 24,
     "metadata": {},
     "output_type": "execute_result"
    }
   ],
   "source": [
    "A[:,1]"
   ]
  },
  {
   "cell_type": "code",
   "execution_count": 25,
   "metadata": {},
   "outputs": [
    {
     "data": {
      "text/plain": [
       "(tensor(8.9475), tensor(5), tensor(1.4193), tensor(4))"
      ]
     },
     "execution_count": 25,
     "metadata": {},
     "output_type": "execute_result"
    }
   ],
   "source": [
    "A[:,1].max(), A[:,1].argmax(), A[:,1].min(), A[:,1].argmin()"
   ]
  },
  {
   "cell_type": "markdown",
   "metadata": {},
   "source": [
    "#### Topk"
   ]
  },
  {
   "cell_type": "code",
   "execution_count": 37,
   "metadata": {},
   "outputs": [
    {
     "data": {
      "text/plain": [
       "torch.return_types.topk(\n",
       "values=tensor([9.4407, 8.8348, 8.7408]),\n",
       "indices=tensor([9, 1, 0]))"
      ]
     },
     "execution_count": 37,
     "metadata": {},
     "output_type": "execute_result"
    }
   ],
   "source": [
    "# 这个就很好展现，A这个整体的比较值\n",
    "# 常用于 Top-5 这样的验证算法中\n",
    "_,indice = A[:,0].topk(3,0,sorted=True)\n",
    "A[:,0].topk(3,0,sorted=True)"
   ]
  },
  {
   "cell_type": "code",
   "execution_count": 44,
   "metadata": {},
   "outputs": [
    {
     "data": {
      "text/plain": [
       "tensor([[9.4407, 7.2448],\n",
       "        [8.8348, 2.1271],\n",
       "        [8.7408, 6.6462]])"
      ]
     },
     "execution_count": 44,
     "metadata": {},
     "output_type": "execute_result"
    }
   ],
   "source": [
    "# ！！ 惊了，索引居然可以直接载入tensor\n",
    "A[indice]"
   ]
  },
  {
   "cell_type": "markdown",
   "metadata": {},
   "source": [
    "#### 高阶操作\n",
    "torch.where(conditon, A, B)  \n",
    "条件判断\n",
    "\n",
    "torch.gather(dict,dim,index)\n",
    "字典查询\n",
    "注意，字典的宽度要和索引的长度相匹配，即：  \n",
    "dict -- Nx1  \n",
    "index -- m  \n",
    "则 dict = dict.expend(m,N)\n"
   ]
  },
  {
   "cell_type": "code",
   "execution_count": 48,
   "metadata": {},
   "outputs": [
    {
     "data": {
      "text/plain": [
       "tensor([[8.7408, 6.6462],\n",
       "        [8.8348, 0.0000],\n",
       "        [0.0000, 8.0481],\n",
       "        [7.9011, 5.3785],\n",
       "        [0.0000, 0.0000],\n",
       "        [0.0000, 8.9475],\n",
       "        [0.0000, 0.0000],\n",
       "        [0.0000, 7.7148],\n",
       "        [0.0000, 8.7266],\n",
       "        [9.4407, 7.2448]])"
      ]
     },
     "execution_count": 48,
     "metadata": {},
     "output_type": "execute_result"
    }
   ],
   "source": [
    "A.where(A>5,torch.tensor(0.))"
   ]
  },
  {
   "cell_type": "code",
   "execution_count": 3,
   "metadata": {},
   "outputs": [],
   "source": [
    "label = (torch.arange(10) + 10).expand(4,10)"
   ]
  },
  {
   "cell_type": "code",
   "execution_count": 4,
   "metadata": {},
   "outputs": [
    {
     "data": {
      "text/plain": [
       "tensor([[10, 11, 12, 13, 14, 15, 16, 17, 18, 19],\n",
       "        [10, 11, 12, 13, 14, 15, 16, 17, 18, 19],\n",
       "        [10, 11, 12, 13, 14, 15, 16, 17, 18, 19],\n",
       "        [10, 11, 12, 13, 14, 15, 16, 17, 18, 19]])"
      ]
     },
     "execution_count": 4,
     "metadata": {},
     "output_type": "execute_result"
    }
   ],
   "source": [
    "label"
   ]
  },
  {
   "cell_type": "code",
   "execution_count": 14,
   "metadata": {},
   "outputs": [
    {
     "data": {
      "text/plain": [
       "tensor([[9, 1],\n",
       "        [3, 8],\n",
       "        [9, 0],\n",
       "        [6, 5]])"
      ]
     },
     "execution_count": 14,
     "metadata": {},
     "output_type": "execute_result"
    }
   ],
   "source": [
    "idx = torch.randint(high=10,size=(4,2),dtype=torch.long)\n",
    "idx"
   ]
  },
  {
   "cell_type": "code",
   "execution_count": 15,
   "metadata": {},
   "outputs": [
    {
     "data": {
      "text/plain": [
       "tensor([[19, 11],\n",
       "        [13, 18],\n",
       "        [19, 10],\n",
       "        [16, 15]])"
      ]
     },
     "execution_count": 15,
     "metadata": {},
     "output_type": "execute_result"
    }
   ],
   "source": [
    "torch.gather(label,dim=1,index=idx)"
   ]
  },
  {
   "cell_type": "code",
   "execution_count": null,
   "metadata": {},
   "outputs": [],
   "source": []
  }
 ],
 "metadata": {
  "kernelspec": {
   "display_name": "Python 3",
   "language": "python",
   "name": "python3"
  },
  "language_info": {
   "codemirror_mode": {
    "name": "ipython",
    "version": 3
   },
   "file_extension": ".py",
   "mimetype": "text/x-python",
   "name": "python",
   "nbconvert_exporter": "python",
   "pygments_lexer": "ipython3",
   "version": "3.7.3"
  }
 },
 "nbformat": 4,
 "nbformat_minor": 2
}
