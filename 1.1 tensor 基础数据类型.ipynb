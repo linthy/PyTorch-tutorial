{
 "cells": [
  {
   "cell_type": "markdown",
   "metadata": {},
   "source": [
    "#### 主要讲一下 Tensor 格式的一些数据类型\n",
    "\n",
    "1. tensor 不同维度的几种应用  \n",
    "    **1.1 0维常用于 loss 计算 value**  \n",
    "    **1.2 1维 用于 bias，linear_input 等加减法或输入 [value]**  \n",
    "    **1.3 2维 用于多个linear_input 的计算 [b, value]**   \n",
    "    **1.4 3维 用于 NLP等RNN网络处理 [b, n_word, feat]**  \n",
    "    **1.5 4维 用于 图片等CNN网络处理 [b, c, w, h]**  \n",
    "2. 常用的数据类型、常用的几个属性和函数、创建tensor  \n",
    "3. 有趣的生成函数"
   ]
  },
  {
   "cell_type": "code",
   "execution_count": 1,
   "metadata": {},
   "outputs": [],
   "source": [
    "import torch"
   ]
  },
  {
   "cell_type": "markdown",
   "metadata": {},
   "source": [
    "#### 常用的数据类型\n",
    "torch.float32 / 64   \n",
    "torch.int8 /16 / 32 / 64  \n",
    "torch.long  \n",
    "torch.uint8    \n",
    "\n",
    "#### 常用的几个属性和函数\n",
    "tensor.shape  # tensor的尺寸 等同于tensor.size()  \n",
    "tensor.numel()  # number of element 参数大小   \n",
    "tensor.dim()  # 维度数  \n",
    "tensor.type() # tensor 类型"
   ]
  },
  {
   "cell_type": "code",
   "execution_count": 4,
   "metadata": {},
   "outputs": [
    {
     "data": {
      "text/plain": [
       "(torch.Size([]), tensor(5))"
      ]
     },
     "execution_count": 4,
     "metadata": {},
     "output_type": "execute_result"
    }
   ],
   "source": [
    "# 输入一个数值，返回一个 0维的tensor\n",
    "a = torch.tensor(5)\n",
    "a.shape,a"
   ]
  },
  {
   "cell_type": "markdown",
   "metadata": {},
   "source": [
    "#### 创建 tensor\n",
    "#输入数值或列表  \n",
    "torch.tensor()  \n",
    "#指定类型--给的是shape  \n",
    "torch.FloatTensor()  \n",
    "torch.IntTensor()  \n",
    "torch.ByteTensor()\n",
    "#随机数值--给的是shape  \n",
    "torch.rand() -- [0,1]间随机取值  \n",
    "torch.randint(min,max,[shape])-- 区间取值  \n",
    "torch.randn() --mean=0,std=1正态分布     \n",
    "#从numpy中读取  \n",
    "torch.from_numpy()  \n",
    "#生成相同类型矩阵函数  \n",
    "torch.*_like（a）"
   ]
  },
  {
   "cell_type": "code",
   "execution_count": 14,
   "metadata": {
    "scrolled": false
   },
   "outputs": [
    {
     "data": {
      "text/plain": [
       "(3,\n",
       " torch.Size([2, 3, 3]),\n",
       " 'torch.FloatTensor',\n",
       " tensor([[[-0.2687,  1.0556,  1.3079],\n",
       "          [ 0.8656,  0.4804,  0.1538],\n",
       "          [ 0.1244,  1.4243, -1.1985]],\n",
       " \n",
       "         [[-0.0427,  0.5887, -0.6269],\n",
       "          [ 1.8963, -0.5378, -2.2035],\n",
       "          [ 0.1506,  0.4445,  0.0195]]]))"
      ]
     },
     "execution_count": 14,
     "metadata": {},
     "output_type": "execute_result"
    }
   ],
   "source": [
    "b = torch.randn(2,3,3)\n",
    "b.dim(),b.size(),b.type(),b"
   ]
  },
  {
   "cell_type": "code",
   "execution_count": 21,
   "metadata": {},
   "outputs": [
    {
     "data": {
      "text/plain": [
       "tensor([[[2.3694e-38, 2.3694e-38, 2.3694e-38],\n",
       "         [2.3694e-38, 2.3694e-38, 2.3694e-38],\n",
       "         [2.3694e-38, 2.3694e-38, 2.3694e-38]],\n",
       "\n",
       "        [[2.3694e-38, 2.3694e-38, 2.3694e-38],\n",
       "         [2.3694e-38, 2.3694e-38, 2.3694e-38],\n",
       "         [2.3694e-38, 2.3694e-38, 2.3694e-38]]])"
      ]
     },
     "execution_count": 21,
     "metadata": {},
     "output_type": "execute_result"
    }
   ],
   "source": [
    "c = torch.FloatTensor(2,3,3)\n",
    "c"
   ]
  },
  {
   "cell_type": "code",
   "execution_count": 15,
   "metadata": {},
   "outputs": [],
   "source": [
    "import numpy as np"
   ]
  },
  {
   "cell_type": "code",
   "execution_count": 22,
   "metadata": {},
   "outputs": [
    {
     "data": {
      "text/plain": [
       "(array([0, 1, 2, 3, 4, 5, 6, 7, 8]),\n",
       " tensor([0, 1, 2, 3, 4, 5, 6, 7, 8], dtype=torch.int32))"
      ]
     },
     "execution_count": 22,
     "metadata": {},
     "output_type": "execute_result"
    }
   ],
   "source": [
    "d = np.arange(9)\n",
    "e = torch.from_numpy(d)\n",
    "d,e"
   ]
  },
  {
   "cell_type": "markdown",
   "metadata": {},
   "source": [
    "#### 有趣的生成函数\n",
    "#填充值  \n",
    "torch.full([shape],value)  \n",
    "#函数取值  \n",
    "torch.linspace(min,max,steps) --线性等分  \n",
    "torch.logspace(min,max,steps) --log等分  \n",
    "#对角矩阵\n",
    "torch.eye() "
   ]
  },
  {
   "cell_type": "code",
   "execution_count": 23,
   "metadata": {},
   "outputs": [
    {
     "data": {
      "text/plain": [
       "tensor([[1., 0., 0.],\n",
       "        [0., 1., 0.],\n",
       "        [0., 0., 1.]])"
      ]
     },
     "execution_count": 23,
     "metadata": {},
     "output_type": "execute_result"
    }
   ],
   "source": [
    "torch.eye(3)"
   ]
  },
  {
   "cell_type": "code",
   "execution_count": null,
   "metadata": {},
   "outputs": [],
   "source": []
  },
  {
   "cell_type": "markdown",
   "metadata": {},
   "source": []
  },
  {
   "cell_type": "code",
   "execution_count": null,
   "metadata": {},
   "outputs": [],
   "source": []
  }
 ],
 "metadata": {
  "kernelspec": {
   "display_name": "Python 3",
   "language": "python",
   "name": "python3"
  },
  "language_info": {
   "codemirror_mode": {
    "name": "ipython",
    "version": 3
   },
   "file_extension": ".py",
   "mimetype": "text/x-python",
   "name": "python",
   "nbconvert_exporter": "python",
   "pygments_lexer": "ipython3",
   "version": "3.7.3"
  }
 },
 "nbformat": 4,
 "nbformat_minor": 2
}
